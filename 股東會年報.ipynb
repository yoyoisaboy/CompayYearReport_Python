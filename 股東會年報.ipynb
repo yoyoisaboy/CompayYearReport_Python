{
 "cells": [
  {
   "cell_type": "code",
   "execution_count": 1,
   "metadata": {},
   "outputs": [
    {
     "name": "stderr",
     "output_type": "stream",
     "text": [
      "[WDM] - Current google-chrome version is 87.0.4280\n",
      "[WDM] - Get LATEST driver version for 87.0.4280\n",
      "[WDM] - Get LATEST driver version for 87.0.4280\n",
      "[WDM] - Trying to download new driver from http://chromedriver.storage.googleapis.com/87.0.4280.88/chromedriver_win32.zip\n"
     ]
    },
    {
     "name": "stdout",
     "output_type": "stream",
     "text": [
      " \n"
     ]
    },
    {
     "name": "stderr",
     "output_type": "stream",
     "text": [
      "[WDM] - Driver has been saved in cache [C:\\Users\\USER\\.wdm\\drivers\\chromedriver\\win32\\87.0.4280.88]\n"
     ]
    }
   ],
   "source": [
    "import time\n",
    "from selenium.webdriver import Chrome #需安裝 : https://pypi.org/project/selenium/\n",
    "from selenium import webdriver\n",
    "from webdriver_manager.chrome import ChromeDriverManager #需安裝 :  https://pypi.org/project/webdriver-manager/\n",
    "\n",
    "driver = webdriver.Chrome(ChromeDriverManager().install())"
   ]
  },
  {
   "cell_type": "code",
   "execution_count": 2,
   "metadata": {},
   "outputs": [
    {
     "name": "stdout",
     "output_type": "stream",
     "text": [
      "https://doc.twse.com.tw/server-java/t57sb01?step=1&colorchg=1&co_id=2330&year=108&mtype=F&\n"
     ]
    }
   ],
   "source": [
    "year = 108\n",
    "number = 2330\n",
    "url = f\"https://doc.twse.com.tw/server-java/t57sb01?step=1&colorchg=1&co_id={number}&year={year}&mtype=F&\"\n",
    "driver.get(url)\n",
    "print(url)"
   ]
  },
  {
   "cell_type": "code",
   "execution_count": 6,
   "metadata": {},
   "outputs": [],
   "source": [
    "link = driver.find_elements_by_xpath('//a[contains(., \"F04\") and contains(@href, \".pdf\")]')[0].get_attribute('href') #取得或處分資產處理程序(訂定或修正)\n",
    "pdf_name = link.split('\\\"')[-2] #pdf名稱\n",
    "driver.find_element_by_xpath(f\"//a[contains(@href,'{link}')]\").click() #pdf按下去"
   ]
  },
  {
   "cell_type": "code",
   "execution_count": 7,
   "metadata": {},
   "outputs": [
    {
     "data": {
      "text/plain": [
       "'https://doc.twse.com.tw/server-java/t57sb01'"
      ]
     },
     "execution_count": 7,
     "metadata": {},
     "output_type": "execute_result"
    }
   ],
   "source": [
    "windows=driver.window_handles  #獲得當前瀏覽器所有視窗\n",
    "driver.switch_to.window(windows[-1]) #換到最新的視窗\n",
    "time.sleep(3) #休息3s\n",
    "url = driver.current_url #看看目前的url\n",
    "url "
   ]
  },
  {
   "cell_type": "code",
   "execution_count": 8,
   "metadata": {},
   "outputs": [],
   "source": [
    "from selenium.webdriver.common.action_chains import ActionChains #模擬滑鼠&鍵盤觸發事件，參數:https://www.selenium.dev/selenium/docs/api/py/webdriver/selenium.webdriver.common.action_chains.html\n",
    "from selenium.webdriver.common.keys import Keys\n",
    "\n",
    "right_click = driver.find_element_by_link_text(pdf_name)\n",
    "ActionChains(driver).double_click(right_click).perform() #左擊"
   ]
  },
  {
   "cell_type": "code",
   "execution_count": 9,
   "metadata": {},
   "outputs": [
    {
     "data": {
      "text/plain": [
       "'https://doc.twse.com.tw/pdf/2018_2330_20190605F04_20201221_172453.pdf'"
      ]
     },
     "execution_count": 9,
     "metadata": {},
     "output_type": "execute_result"
    }
   ],
   "source": [
    "windows=driver.window_handles  #獲得當前瀏覽器所有視窗\n",
    "driver.switch_to.window(windows[-1]) #換到最新的視窗\n",
    "time.sleep(3) #休息3s\n",
    "url = driver.current_url #看看目前的url\n",
    "driver.quit()\n",
    "url #確實進入pdf頁面"
   ]
  },
  {
   "cell_type": "code",
   "execution_count": 10,
   "metadata": {},
   "outputs": [
    {
     "name": "stderr",
     "output_type": "stream",
     "text": [
      "[WDM] - Current google-chrome version is 87.0.4280\n",
      "[WDM] - Get LATEST driver version for 87.0.4280\n",
      "[WDM] - Driver [C:\\Users\\USER\\.wdm\\drivers\\chromedriver\\win32\\87.0.4280.88\\chromedriver.exe] found in cache\n"
     ]
    },
    {
     "name": "stdout",
     "output_type": "stream",
     "text": [
      " \n"
     ]
    }
   ],
   "source": [
    "\n",
    "from selenium.webdriver.chrome.options import Options\n",
    "chrome_options = Options()\n",
    "chrome_options.add_experimental_option(\n",
    "    'prefs', {\n",
    "     \"download.default_directiory\": './',\n",
    "     \"download.prompt_for_download\": False,\n",
    "     \"download.directory_upgrade\": True,\n",
    "     \"plugins.always_open_pdf_externally\":True\n",
    "    }\n",
    ") \n",
    "browser = webdriver.Chrome(ChromeDriverManager().install(),options=chrome_options)\n",
    "browser.get(url)\n",
    "time.sleep(15)\n",
    "browser.quit()"
   ]
  },
  {
   "cell_type": "code",
   "execution_count": null,
   "metadata": {},
   "outputs": [],
   "source": []
  },
  {
   "cell_type": "markdown",
   "metadata": {},
   "source": [
    "# 檔案下載完再繼續跑"
   ]
  },
  {
   "cell_type": "code",
   "execution_count": 11,
   "metadata": {
    "scrolled": true
   },
   "outputs": [
    {
     "data": {
      "text/plain": [
       "('2018_2330_20190605F04_20201221_172453.pdf',\n",
       " 'C:\\\\Users\\\\USER\\\\Desktop\\\\成大\\\\成大徐老師的課\\\\金融科技1091_R861201')"
      ]
     },
     "execution_count": 11,
     "metadata": {},
     "output_type": "execute_result"
    }
   ],
   "source": [
    "import shutil\n",
    "import os\n",
    "pdf_name = url.split('/')[-1]\n",
    "downloadFileName = r\"C:\\Users\\{0}\\Downloads\\{1}\".format(os.getcwd().split('\\\\')[2],pdf_name)\n",
    "\n",
    "shutil.move(downloadFileName,pdf_name), os.path.abspath(os.getcwd() ) #將下載檔案移動至本之程式相同目錄下"
   ]
  },
  {
   "cell_type": "code",
   "execution_count": 12,
   "metadata": {},
   "outputs": [
    {
     "data": {
      "text/plain": [
       "-1"
      ]
     },
     "execution_count": 12,
     "metadata": {},
     "output_type": "execute_result"
    }
   ],
   "source": [
    "os.path.abspath(pdf_name).find('Downloads')"
   ]
  },
  {
   "cell_type": "code",
   "execution_count": 24,
   "metadata": {
    "scrolled": true
   },
   "outputs": [],
   "source": [
    "import pandas as pd\n",
    "import pdfplumber #需安裝 : https://pypi.org/project/pdfplumber/\n",
    "   \n",
    "pdf_name = '2018_2330_20190605F04_20201221_172453.pdf'\n",
    "pdf = pdfplumber.open(pdf_name)\n"
   ]
  },
  {
   "cell_type": "code",
   "execution_count": 27,
   "metadata": {},
   "outputs": [
    {
     "name": "stdout",
     "output_type": "stream",
     "text": [
      "台積公司願景、使命與核心價值 1 5\n",
      "致股東報告書  3 營運概況  71\n",
      "5.1　業務內容  71\n",
      "願景 成為全球最先進及最大的專業積體電路技術及製造服務業者，並且與我們無晶圓廠設計公司及整合元\n",
      "2\n",
      "5.2　技術領導地位  72\n",
      "件製造商的客戶群共同組成半導體產業中堅強的競爭團隊。\n",
      "為了實現此一願景，我們必須擁有三位一體的能力： 公司概況  9 5.3　卓越製造  77\n",
      "5.4　客戶信任  80\n",
      "2.1　公司簡介  9\n",
      "1. 是技術領導者，能與整合元件製造商中的佼佼者匹敵 5.5　人才資本  82\n",
      "2.2　市場概況  9\n",
      "2. 是製造領導者 5.6　重要契約  87\n",
      "2.3　公司組織  16\n",
      "3. 是最具聲譽、以服務為導向，以及客戶最大整體利益的提供者\n",
      "2.4　董事會成員  18\n",
      "6\n",
      "2.5　主要經理人  26\n",
      "使命 作為全球邏輯積體電路產業中，長期且值得信賴的技術及產能提供者。 財務概況及分析  89\n",
      "3\n",
      "6.1　財務概況  89\n",
      "核心價值 誠信正直\n",
      "6.2　財務狀況及經營結果  95\n",
      "公司治理  35\n",
      "這是我們最基本也是最重要的理念。我們說真話；我們不誇張、不作秀；對客戶我們不輕易承諾，一\n",
      "6.3　風險管理  100\n",
      "旦做出承諾，必定不計代價，全力以赴；對同業我們在合法範圍內全力競爭，我們也尊重同業的智慧 3.1　概述  35\n",
      "財產權；對供應商我們以客觀、清廉、公正的態度進行挑選及合作。在公司內部，我們絕不容許貪污； 3.2　董事會  36\n",
      "7\n",
      "不容許有派系；也不容許「公司政治」。我們用人的首要條件是品格與才能，絕不是「關係」。 3.3　股東會與董事會重要決議事項及執行情形  41\n",
      "企業社會責任  113\n",
      "3.4　公司治理運作情形及其與上市上櫃公司 \n",
      "承諾 治理實務守則差異情形及原因  43 7.1　概述  113\n",
      "台積公司堅守對客戶、供應商、員工、股東及社會的承諾。所有這些利害關係人對台積公司的成功都 3.5　從業道德  47 7.2　環保、安全與衛生管理  118\n",
      "相當重要，台積公司會盡力照顧所有利害關係人的權益。同樣地，我們也希望所有利害關係人能對台 3.6　法規遵循  51 7.3　台積電文教基金會  127\n",
      "積公司信守其承諾。 3.7　內部控制制度執行狀況  53 7.4　台積電慈善基金會  128\n",
      "3.8　與公司財務及業務有關人士之資訊  54 7.5　台積i公益  128\n",
      "創新 3.9　會計師資訊  54 7.6　履行社會責任情形  129\n",
      "創新是我們的成長的泉源。我們追求的是全面，涵蓋策略、行銷、管理、技術、製造等各方面的創新。 3.10 重大資訊處理作業程序  55\n",
      "創新不僅僅是有新的想法，還需要執行力，做出改變，否則只是空想，沒有益處。 8\n",
      "4\n",
      "關係企業暨其他特別記載事項  131\n",
      "客戶信任\n",
      "資本及股份  57\n",
      "8.1　關係企業相關資料  131\n",
      "客戶是我們的夥伴，因此我們優先考慮客戶的需求。我們視客戶的競爭力為台積公司的競爭力，而客\n",
      "戶的成功也是台積公司的成功。我們努力與客戶建立深遠的夥伴關係，並成為客戶信賴且賴以成功的 4.1　資本及股份  57 8.2　子公司持有或處分本公司股票情形  135\n",
      "長期重要夥伴。 4.2　公司債辦理情形  64 8.3　其他特別記載事項  135\n",
      "4.3　特別股辦理情形  66\n",
      "4.4　海外存託憑證辦理情形  66\n",
      "4.5　員工認股權憑證辦理情形  68\n",
      "4.6　限制員工權利新股辦理情形  68\n",
      "4.7　併購或受讓他公司股份發行新股辦理情形  68\n",
      "4.8　資金運用計劃執行情形  68\n",
      "*****************************************\n",
      "1\n",
      "致股東報告書\n",
      "各位股東女士、先生：\n",
      "民國一百零七年是台積公司達成許多里程碑的一年。我們的營收、淨利與每股盈餘已經連續七年創下紀\n",
      "錄；我們成功地量產7奈米製程，並領先其他同業至少一年。在多樣化的應用上，我們有強大的客戶參\n",
      "與以及客戶的產品設計定案。這是業界首見最先進的邏輯製程技術，由我們這樣一個開放平台來提供給\n",
      "整個半導體產業使用。憑藉著最強大的技術組合、最廣泛的客戶覆蓋範圍及最大規模的潛力市場，台積\n",
      "公司比以往任何時候都處於更佳的位置，以掌握未來成長的機會。\n",
      "在現今世界，我們看到數位運算無所不在，我們看到大量的電子產品彼此互聯而產生更多的數據，我們\n",
      "也看到許多新的應用和產品都嵌入了人工智慧（AI），半導體正變得越形普及。市場對於更高效能、更\n",
      "低功耗和更高程度的系統整合的需求，將進一步驅動產品的進步，而台積公司將協助其實現。\n",
      "我們的7奈米製程在民國一百零七年快速量產，使我們能夠獲得所有最先進的智慧型手機以及更多的行\n",
      "動裝置與高效能運算應用的採用。民國一百零七年，我們的第二代7奈米製程技術（N7+）進入試產階段，\n",
      "預計將於民國一百零八年進入量產。N7+將成為業界第一個商用極紫外光（Extreme Ultraviolet, EUV）\n",
      "微影製程技術。同時，我們持續5奈米先進製程技術的開發，預計在民國一百零九年上半年達成量產目標。\n",
      "我們後續幾代的整合型扇出（Integrated Fan-Out, InFO）和CoWoS®（Chip on Wafer on Substrate）\n",
      "先進封裝解決方案，也持續引領業界，提供最先進的系統級解決方案。\n",
      "台積公司民國一百零七年的主要成就包括：\n",
      "● 晶圓出貨量較民國一百零六年增加2.9%，達1,080萬片12吋約當晶圓量。\n",
      "● 先進製程技術（28奈米及以下更先進製程）的銷售金額佔整體晶圓銷售金額的63%，高於民國一百零\n",
      "六年的58%。\n",
      "● 提供261種不同的製程技術，為481個客戶生產10,436種不同產品。\n",
      "● 連續九年在專業積體電路製造服務領域之佔有率持續成長，已達到56%。\n",
      "3\n",
      "*****************************************\n",
      "財務表現 我們5奈米製程技術的開發進度十分符合預期，預計於民國一百零八年第二季進入試產，我們在電晶體、\n",
      "連結效能、良率學習，以及品質可靠性都獲得大幅的進展。客戶產品設計定案計畫於民國一百零八年上\n",
      "台積公司民國一百零七年全年合併營收為新台幣1 兆 314 億 7,000 萬元，較前一年的 9,774 億 5,000\n",
      "半年開始進行，並於隔年開始量產。我們預期看到很多的客戶採用我們的5奈米製程技術來為他們的產\n",
      "萬元增加 5.5%；稅後淨利為新台幣 3,511億 3,000萬元，每股盈餘為新台幣 13.54元，較前一年稅後\n",
      "品建立領導地位。此外，我們的3奈米技術也已經進入全面開發的階段。\n",
      "淨利3,431億1,000萬元及每股盈餘13.23元均增加了2.3%。\n",
      "對於整合先進的系統單晶片、高頻寬記憶體，以及整合式被動裝置，台積公司提供先進的封裝技術，以\n",
      "若以美元計算，台積公司民國一百零七年全年合併營收為342億美元，稅後淨利為116億4,000萬美元，\n",
      "強化系統級效能。民國一百零七年，我們推出具備更精細的連結線寬與間距的第四代InFO解決方案，來\n",
      "較前一年度的全年合併營收 321億1,000萬美元增加6.5%，較前一年度的稅後淨利 112億7,000萬美\n",
      "支援行動及高效能運算產品。台積公司CoWoS®技術提供更大尺寸中介層的異質整合平台。民國一百零\n",
      "元則增加了3.3%。\n",
      "七年五月，台積公司宣布了系統整合晶片（System-on-Integrated Chips, TSMC-SoICTM）解決方案。這\n",
      "項明確領先業界的三維積體電路封裝的解決方案，能夠整合多個非常鄰近的異質小晶片（chiplets），提\n",
      "台積公司民國一百零七年毛利率為 48.3%，前一年為 50.6%；營業利益率為 37.2%，前一年則為\n",
      "供更佳的系統效能。\n",
      "39.4%。稅後純益率為34.0%，較前一年的稅後純益率35.1%減少了1.1個百分點。\n",
      "台積公司的開放創新平台（Open Innovation Platform®, OIP）設計生態系統是協助客戶將創新產品快速\n",
      "此外，台積公司已於民國一百零六年的盈餘分配中進一步將現金股利由前一年度之每股新台幣 7元調高\n",
      "上市的一個重要因素，民國一百零七年十月，台積公司推出虛擬設計環境（Virtual Design Environment, \n",
      "為每股新台幣8元。\n",
      "VDE），使得客戶能在一個安全可靠的雲端環境進行晶片設計，明顯提高了客戶的設計生產力。我們持續\n",
      "與設計生態系統的夥伴合作，將資料庫與矽智財組合擴增到超過20,000個項目。民國一百零七年，台積\n",
      "技術發展\n",
      "公司已在 TSMC-Online線上提供超過 9,000 個技術檔案及超過 300 個製程設計套件，當年度客戶下載\n",
      "民國一百零七年，台積公司持續增加研發費用至美金 28億5,000萬元，以擴展技術的提供，並延續技術 使用技術檔案與製程設計套件已超過10萬次。\n",
      "上的領導地位。\n",
      "企業發展\n",
      "民國一百零七年，我們利用在 28奈米製程技術上的領先地位來開發 22奈米製程技術，以進一步強化效\n",
      "台積公司創辦人張忠謀博士領導公司超過 31年，於民國一百零七年六月五日的股東大會之後退休。台積\n",
      "能與密度。我們的 22 奈米超低功耗（22ULP）及 22 奈米超低漏電（22ULL）技術適合物聯網、射頻與\n",
      "公司股東於會中完成新一屆董事改選，隨後並召開董事會推舉劉德音博士擔任董事長，魏哲家博士擔任\n",
      "穿戴式裝置等廣泛的應用。台積公司也將16奈米製程技術拓展到12奈米精簡型（12FFC）製程，進一\n",
      "總裁暨副董事長。\n",
      "步改善功耗、效能與密度。在特殊技術方面，民國一百零七年，以鰭式場效電晶體（FinFET）為基礎的\n",
      "16奈米精簡型射頻（16FFC RF）製程，已證明可提供業界第一個量產的5G行動網路晶片。\n",
      "民國一百零七年，台積公司 7奈米製程技術成功地量產，並在快速量產上締造了新的業界紀錄。我們已\n",
      "完成超過40件客戶產品設計定案，並預計於民國一百零八年取得超過100件新的客戶產品設計定案。7\n",
      "奈米客戶產品包括行動裝置、遊戲機、AI、中央處理器、繪圖處理器，以及網通裝置。而第二代 7 奈米\n",
      "（N7+）技術於民國一百零七年八月進入試產，將成為業界第一個商用EUV製程技術。\n",
      "4 5\n",
      "*****************************************\n",
      "產能計劃 晶圓銷售計劃 誠信正直、承諾、創新與客戶信任四大核心價值依舊是我們公司文化的基石，它們將持續指引公司經營\n",
      "業務的每個面向，以此做為航向未來商機的指南。我們將持續致力於世界級的公司治理、永續經營，以\n",
      "10%\n",
      "民國106年 民國106年 42% 58% 及為股東賺取優良的報酬。感謝各位股東對於台積公司的信任與支持，我們期待與您攜手，共同邁向長\n",
      "11-12\n",
      "遠且繁榮的未來。\n",
      "8%\n",
      "民國107年 民國107年 37% 63%\n",
      "12-13\n",
      "2%\n",
      "民國108年 民國108年 30-40% 60-70%\n",
      "12-13\n",
      "年成長率  > 28奈米晶圓銷售金額 ≤ 28奈米晶圓銷售金額\n",
      "產能：百萬片十二吋晶圓約當量 民國108年晶圓銷售量預期10-11百萬片約當十二吋晶圓\n",
      "榮譽與獎項\n",
      "民國一百零七年，台積公司在創新、資訊揭露、公司治理、永續發展、投資人關係以及整體傑出經營管理\n",
      "方面，獲得來自富比世雜誌、財富雜誌、天下雜誌、日本經濟新聞社、湯森路透、資誠聯合會計師事務所、\n",
      "RobecoSAM、台灣證交所等頒發的多項榮譽與獎項。台積公司亦持續獲得來自Institutional Investor\n",
      "雜誌及IR Magazine雜誌頒發的多項獎項的肯定。此外，台積公司再次獲選道瓊永續發展世界指數的組\n",
      "成企業，是全球唯一連續18 年入選的半導體公司。台積公司在永續發展的成果也獲機構股東服務公司\n",
      "（Institutional Shareholder Services, ISS）評為「最佳」等級及全球永續研究分析機構（Sustainalytics）\n",
      "評為「領導者」等級。同時，台積公司也持續獲選為 MSCI全球ESG領導者指數以及FTSE4Good新興市\n",
      "場指數之重要成分股，彰顯台積公司對永續發展與企業社會責任的持續承諾。\n",
      "未來展望\n",
      "民國一百零八年，面對全球經濟疲軟及國際間貿易緊張局勢所帶來業務上的逆風，台積公司將致力於強\n",
      "化業務的基本體質並加速我們技術的差異化，我們也將強化我們的網路安全以及機密資訊保護措施。當\n",
      "撥雲見日之時，台積公司有決心將成為半導體業更強壯的一股力量。\n",
      "我們相信5G及AI持續的產業大趨勢，將會驅動未來半導體業的成長。憑藉最廣泛且最先進的技術組合、\n",
      "堅持不懈地追求卓越製造，以及值得客戶信任的關係，台積公司處於最佳的位置引領業界為半導體市場 劉德音  魏哲家 \n",
      "董事長 總裁  \n",
      "未來的應用提供最先進且最完備的解決方案。\n",
      "6 7\n",
      "*****************************************\n"
     ]
    }
   ],
   "source": [
    "#for p in range(1,len(pdf.pages)):\n",
    "for p in range(1,5):\n",
    "    p = pdf.pages[p]\n",
    "    table=p.extract_text()       #讀文字\n",
    "    #table = pdf.pages[p].extract_table()  #讀表格\n",
    "    print(table)\n",
    "    print('*****************************************')\n"
   ]
  },
  {
   "cell_type": "code",
   "execution_count": 35,
   "metadata": {},
   "outputs": [
    {
     "data": {
      "text/plain": [
       "['台積公司願景、使命與核心價值 1 5',\n",
       " '致股東報告書  3 營運概況  71',\n",
       " '5.1\\u3000業務內容  71',\n",
       " '願景 成為全球最先進及最大的專業積體電路技術及製造服務業者，並且與我們無晶圓廠設計公司及整合元',\n",
       " '2',\n",
       " '5.2\\u3000技術領導地位  72',\n",
       " '件製造商的客戶群共同組成半導體產業中堅強的競爭團隊。',\n",
       " '為了實現此一願景，我們必須擁有三位一體的能力： 公司概況  9 5.3\\u3000卓越製造  77',\n",
       " '5.4\\u3000客戶信任  80',\n",
       " '2.1\\u3000公司簡介  9',\n",
       " '1. 是技術領導者，能與整合元件製造商中的佼佼者匹敵 5.5\\u3000人才資本  82',\n",
       " '2.2\\u3000市場概況  9',\n",
       " '2. 是製造領導者 5.6\\u3000重要契約  87',\n",
       " '2.3\\u3000公司組織  16',\n",
       " '3. 是最具聲譽、以服務為導向，以及客戶最大整體利益的提供者',\n",
       " '2.4\\u3000董事會成員  18',\n",
       " '6',\n",
       " '2.5\\u3000主要經理人  26',\n",
       " '使命 作為全球邏輯積體電路產業中，長期且值得信賴的技術及產能提供者。 財務概況及分析  89',\n",
       " '3',\n",
       " '6.1\\u3000財務概況  89',\n",
       " '核心價值 誠信正直',\n",
       " '6.2\\u3000財務狀況及經營結果  95',\n",
       " '公司治理  35',\n",
       " '這是我們最基本也是最重要的理念。我們說真話；我們不誇張、不作秀；對客戶我們不輕易承諾，一',\n",
       " '6.3\\u3000風險管理  100',\n",
       " '旦做出承諾，必定不計代價，全力以赴；對同業我們在合法範圍內全力競爭，我們也尊重同業的智慧 3.1\\u3000概述  35',\n",
       " '財產權；對供應商我們以客觀、清廉、公正的態度進行挑選及合作。在公司內部，我們絕不容許貪污； 3.2\\u3000董事會  36',\n",
       " '7',\n",
       " '不容許有派系；也不容許「公司政治」。我們用人的首要條件是品格與才能，絕不是「關係」。 3.3\\u3000股東會與董事會重要決議事項及執行情形  41',\n",
       " '企業社會責任  113',\n",
       " '3.4\\u3000公司治理運作情形及其與上市上櫃公司 ',\n",
       " '承諾 治理實務守則差異情形及原因  43 7.1\\u3000概述  113',\n",
       " '台積公司堅守對客戶、供應商、員工、股東及社會的承諾。所有這些利害關係人對台積公司的成功都 3.5\\u3000從業道德  47 7.2\\u3000環保、安全與衛生管理  118',\n",
       " '相當重要，台積公司會盡力照顧所有利害關係人的權益。同樣地，我們也希望所有利害關係人能對台 3.6\\u3000法規遵循  51 7.3\\u3000台積電文教基金會  127',\n",
       " '積公司信守其承諾。 3.7\\u3000內部控制制度執行狀況  53 7.4\\u3000台積電慈善基金會  128',\n",
       " '3.8\\u3000與公司財務及業務有關人士之資訊  54 7.5\\u3000台積i公益  128',\n",
       " '創新 3.9\\u3000會計師資訊  54 7.6\\u3000履行社會責任情形  129',\n",
       " '創新是我們的成長的泉源。我們追求的是全面，涵蓋策略、行銷、管理、技術、製造等各方面的創新。 3.10 重大資訊處理作業程序  55',\n",
       " '創新不僅僅是有新的想法，還需要執行力，做出改變，否則只是空想，沒有益處。 8',\n",
       " '4',\n",
       " '關係企業暨其他特別記載事項  131',\n",
       " '客戶信任',\n",
       " '資本及股份  57',\n",
       " '8.1\\u3000關係企業相關資料  131',\n",
       " '客戶是我們的夥伴，因此我們優先考慮客戶的需求。我們視客戶的競爭力為台積公司的競爭力，而客',\n",
       " '戶的成功也是台積公司的成功。我們努力與客戶建立深遠的夥伴關係，並成為客戶信賴且賴以成功的 4.1\\u3000資本及股份  57 8.2\\u3000子公司持有或處分本公司股票情形  135',\n",
       " '長期重要夥伴。 4.2\\u3000公司債辦理情形  64 8.3\\u3000其他特別記載事項  135',\n",
       " '4.3\\u3000特別股辦理情形  66',\n",
       " '4.4\\u3000海外存託憑證辦理情形  66',\n",
       " '4.5\\u3000員工認股權憑證辦理情形  68',\n",
       " '4.6\\u3000限制員工權利新股辦理情形  68',\n",
       " '4.7\\u3000併購或受讓他公司股份發行新股辦理情形  68',\n",
       " '4.8\\u3000資金運用計劃執行情形  68']"
      ]
     },
     "execution_count": 35,
     "metadata": {},
     "output_type": "execute_result"
    }
   ],
   "source": [
    "p0 = pdf.pages[1]\n",
    "table=p0.extract_text()\n",
    "table.split('\\n')"
   ]
  },
  {
   "cell_type": "code",
   "execution_count": null,
   "metadata": {},
   "outputs": [],
   "source": []
  },
  {
   "cell_type": "code",
   "execution_count": null,
   "metadata": {},
   "outputs": [],
   "source": []
  },
  {
   "cell_type": "code",
   "execution_count": null,
   "metadata": {},
   "outputs": [],
   "source": [
    "pdf.close()"
   ]
  }
 ],
 "metadata": {
  "kernelspec": {
   "display_name": "Python 3",
   "language": "python",
   "name": "python3"
  },
  "language_info": {
   "codemirror_mode": {
    "name": "ipython",
    "version": 3
   },
   "file_extension": ".py",
   "mimetype": "text/x-python",
   "name": "python",
   "nbconvert_exporter": "python",
   "pygments_lexer": "ipython3",
   "version": "3.7.4"
  }
 },
 "nbformat": 4,
 "nbformat_minor": 2
}

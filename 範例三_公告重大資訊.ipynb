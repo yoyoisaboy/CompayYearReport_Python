{
 "cells": [
  {
   "cell_type": "markdown",
   "metadata": {},
   "source": [
    "# 範例三 : 設定幾間投資標的公司， 如果這些公司有公告重大資訊， 程式會自動抓下來， 使用者一大早打開電腦就可以直接看到。\n",
    "例如 :因為公司為了避免股價波動，很喜歡在半夜發佈重大資訊。"
   ]
  },
  {
   "cell_type": "code",
   "execution_count": 2,
   "metadata": {},
   "outputs": [
    {
     "name": "stdout",
     "output_type": "stream",
     "text": [
      "https://mops.twse.com.tw/mops/web/t05st01?encodeURIComponent=1&step=1&off=1&queryName=co_id&TYPEK=all&inpuType=co_id&isnew=&firstin=1&co_id=2330&year=109\n",
      "   公司代號 公司名稱       發言日期      發言時間                                   主旨\n",
      "0  2330  台積電  109/11/11  17:55:56  本公司代子公司 TSMC Global Ltd. 公告取得固定收益證券\n",
      "https://mops.twse.com.tw/mops/web/t05st01?encodeURIComponent=1&step=1&off=1&queryName=co_id&TYPEK=all&inpuType=co_id&isnew=&firstin=1&co_id=2545&year=109\n",
      "   公司代號 公司名稱       發言日期      發言時間                         主旨\n",
      "0  2545   皇翔  109/11/11  18:29:00  新北市土城區福華段2地號之追減基礎內裝承攬工程契約\n"
     ]
    }
   ],
   "source": [
    "import pandas as pd\n",
    "import requests\n",
    "import numpy as np\n",
    "from io import StringIO\n",
    "import datetime\n",
    "co_id = ['2330','2545'] #輸入你想要的公司代號\n",
    "year=109\n",
    "for id in co_id:\n",
    "    url = f'''https://mops.twse.com.tw/mops/web/t05st01?encodeURIComponent=1&step=1&off=1&queryName=co_id&TYPEK=all&inpuType=co_id&isnew=&firstin=1&co_id={id}&year={year}'''\n",
    "    r = requests.post(url)\n",
    "    r.encoding = 'utf8'\n",
    "    get_html = pd.read_html(StringIO(r.text))\n",
    "    data_df = get_html[10].dropna(axis='columns')\n",
    "    data_df = data_df.sort_values(by=['發言日期'],ascending=[False])\n",
    "    data_df.reset_index(inplace=True,drop=True) #更新索引值\n",
    "    data_df.to_csv(f'./Data/{id}_{year}_公告重大資訊.csv',encoding='utf-8-sig',index=False)\n",
    "    print(url)\n",
    "    print(data_df.head(1))"
   ]
  },
  {
   "cell_type": "code",
   "execution_count": null,
   "metadata": {},
   "outputs": [],
   "source": []
  },
  {
   "cell_type": "code",
   "execution_count": null,
   "metadata": {},
   "outputs": [],
   "source": []
  }
 ],
 "metadata": {
  "kernelspec": {
   "display_name": "Python 3",
   "language": "python",
   "name": "python3"
  },
  "language_info": {
   "codemirror_mode": {
    "name": "ipython",
    "version": 3
   },
   "file_extension": ".py",
   "mimetype": "text/x-python",
   "name": "python",
   "nbconvert_exporter": "python",
   "pygments_lexer": "ipython3",
   "version": "3.7.4"
  }
 },
 "nbformat": 4,
 "nbformat_minor": 2
}
